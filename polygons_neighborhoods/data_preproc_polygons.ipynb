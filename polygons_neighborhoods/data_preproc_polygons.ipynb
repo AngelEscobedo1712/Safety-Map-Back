{
 "cells": [
  {
   "attachments": {},
   "cell_type": "markdown",
   "metadata": {},
   "source": [
    "## Installing all the necessary librarires and loading data from gcp"
   ]
  },
  {
   "cell_type": "code",
   "execution_count": 2,
   "metadata": {},
   "outputs": [
    {
     "name": "stdout",
     "output_type": "stream",
     "text": [
      "Requirement already satisfied: fuzzywuzzy in /Users/pieterdietrich/.pyenv/versions/3.10.6/envs/Safety-Map-Back/lib/python3.10/site-packages (0.18.0)\n",
      "\n",
      "\u001b[1m[\u001b[0m\u001b[34;49mnotice\u001b[0m\u001b[1;39;49m]\u001b[0m\u001b[39;49m A new release of pip available: \u001b[0m\u001b[31;49m22.2.1\u001b[0m\u001b[39;49m -> \u001b[0m\u001b[32;49m23.1.2\u001b[0m\n",
      "\u001b[1m[\u001b[0m\u001b[34;49mnotice\u001b[0m\u001b[1;39;49m]\u001b[0m\u001b[39;49m To update, run: \u001b[0m\u001b[32;49mpip install --upgrade pip\u001b[0m\n",
      "Note: you may need to restart the kernel to use updated packages.\n"
     ]
    }
   ],
   "source": [
    "import pandas as pd\n",
    "from google.cloud import storage\n",
    "import os\n",
    "%pip install fuzzywuzzy"
   ]
  },
  {
   "cell_type": "code",
   "execution_count": 5,
   "metadata": {},
   "outputs": [],
   "source": [
    "credentials_path = os.path.join(\"..\", os.getenv('GOOGLE_APPLICATION_CREDENTIALS'))\n",
    "client = storage.Client.from_service_account_json(json_credentials_path=credentials_path)"
   ]
  },
  {
   "cell_type": "code",
   "execution_count": 6,
   "metadata": {},
   "outputs": [],
   "source": [
    "bucket_name = os.getenv('BUCKET_NAME')\n",
    "colonias_geo = 'georef-mexico-colonia.geojson'\n",
    "colonias_csv = 'georef-mexico-colonia.csv'\n",
    "\n",
    "bucket = client.get_bucket(bucket_name)\n",
    "blob_geo = bucket.blob(colonias_geo)\n",
    "blob_csv = bucket.blob(colonias_csv)\n",
    "\n",
    "\n",
    "blob_geo.download_to_filename('local_geo.json')\n",
    "blob_csv.download_to_filename('local_csv.csv')"
   ]
  },
  {
   "cell_type": "code",
   "execution_count": 7,
   "metadata": {},
   "outputs": [],
   "source": [
    "# Read the downloaded GeoJSON file\n",
    "geojson_file = 'local_geo.json'\n",
    "df_geojson = pd.read_json(geojson_file)\n",
    "\n",
    "# Read the downloaded CSV file\n",
    "csv_file = 'local_csv.csv'\n",
    "df_csv = pd.read_csv(csv_file, delimiter=\";\")"
   ]
  },
  {
   "attachments": {},
   "cell_type": "markdown",
   "metadata": {},
   "source": [
    "# Actual preprocessing starts here "
   ]
  },
  {
   "cell_type": "code",
   "execution_count": 8,
   "metadata": {},
   "outputs": [],
   "source": [
    "#merge alcadia and \n",
    "merged_names = df_geojson['features'].apply(lambda x: f\"{x['properties']['mun_name'][0]} - {x['properties']['col_name'][0]}\")\n",
    "\n",
    "# Add the merged names to a new column called 'merged_names'\n",
    "df_geojson['merged_names'] = merged_names"
   ]
  },
  {
   "cell_type": "code",
   "execution_count": 10,
   "metadata": {},
   "outputs": [],
   "source": [
    "#add the geo data\n",
    "df_geojson['geometry_data'] = df_geojson['features'].apply(lambda x: x['geometry'])\n",
    "polygon_colonias = df_geojson[['merged_names', 'geometry_data']]"
   ]
  },
  {
   "cell_type": "code",
   "execution_count": 11,
   "metadata": {},
   "outputs": [],
   "source": [
    "#download the colonia_names file (2041 colonias)\n",
    "url = 'https://storage.googleapis.com/safety-map-model/coords_colonias.csv'\n",
    "colonias_names = pd.read_csv(url)"
   ]
  },
  {
   "cell_type": "code",
   "execution_count": 12,
   "metadata": {},
   "outputs": [
    {
     "name": "stderr",
     "output_type": "stream",
     "text": [
      "/var/folders/dh/064qhhjs4vg60c83rm64tjs80000gn/T/ipykernel_89768/886453613.py:2: FutureWarning: The default value of regex will change from True to False in a future version.\n",
      "  polygon_colonias['cleaned_names'] = polygon_colonias['merged_names'].str.replace(r'[^\\w\\s]', '').str.lower().str.replace(r'\\s', '').str.replace('uhab', '')\n",
      "/var/folders/dh/064qhhjs4vg60c83rm64tjs80000gn/T/ipykernel_89768/886453613.py:2: SettingWithCopyWarning: \n",
      "A value is trying to be set on a copy of a slice from a DataFrame.\n",
      "Try using .loc[row_indexer,col_indexer] = value instead\n",
      "\n",
      "See the caveats in the documentation: https://pandas.pydata.org/pandas-docs/stable/user_guide/indexing.html#returning-a-view-versus-a-copy\n",
      "  polygon_colonias['cleaned_names'] = polygon_colonias['merged_names'].str.replace(r'[^\\w\\s]', '').str.lower().str.replace(r'\\s', '').str.replace('uhab', '')\n",
      "/var/folders/dh/064qhhjs4vg60c83rm64tjs80000gn/T/ipykernel_89768/886453613.py:4: FutureWarning: The default value of regex will change from True to False in a future version.\n",
      "  colonias_names['cleaned_names'] = colonias_names['alcaldia_colonia'].str.replace(r'[^\\w\\s]', '').str.lower().str.replace(r'\\s', '').str.replace('uhab', '')\n"
     ]
    }
   ],
   "source": [
    "#cleaning the colonia names to compare them\n",
    "polygon_colonias['cleaned_names'] = polygon_colonias['merged_names'].str.replace(r'[^\\w\\s]', '').str.lower().str.replace(r'\\s', '').str.replace('uhab', '')\n",
    "\n",
    "colonias_names['cleaned_names'] = colonias_names['alcaldia_colonia'].str.replace(r'[^\\w\\s]', '').str.lower().str.replace(r'\\s', '').str.replace('uhab', '')\n"
   ]
  },
  {
   "cell_type": "code",
   "execution_count": 13,
   "metadata": {},
   "outputs": [
    {
     "name": "stderr",
     "output_type": "stream",
     "text": [
      "/var/folders/dh/064qhhjs4vg60c83rm64tjs80000gn/T/ipykernel_89768/647193817.py:12: FutureWarning: The default value of regex will change from True to False in a future version.\n",
      "  polygon_colonias['cleaned_names'] = polygon_colonias['cleaned_names'] .str.replace('|'.join(spanish_to_english.keys()), lambda x: spanish_to_english[x.group()])\n",
      "/var/folders/dh/064qhhjs4vg60c83rm64tjs80000gn/T/ipykernel_89768/647193817.py:12: SettingWithCopyWarning: \n",
      "A value is trying to be set on a copy of a slice from a DataFrame.\n",
      "Try using .loc[row_indexer,col_indexer] = value instead\n",
      "\n",
      "See the caveats in the documentation: https://pandas.pydata.org/pandas-docs/stable/user_guide/indexing.html#returning-a-view-versus-a-copy\n",
      "  polygon_colonias['cleaned_names'] = polygon_colonias['cleaned_names'] .str.replace('|'.join(spanish_to_english.keys()), lambda x: spanish_to_english[x.group()])\n"
     ]
    }
   ],
   "source": [
    "# Dictionary mapping Spanish characters to English letters\n",
    "spanish_to_english = {\n",
    "    'á': 'a',\n",
    "    'é': 'e',\n",
    "    'í': 'i',\n",
    "    'ó': 'o',\n",
    "    'ú': 'u',\n",
    "    'ñ': 'n',\n",
    "}\n",
    "\n",
    "# Replace Spanish characters with English letters\n",
    "polygon_colonias['cleaned_names'] = polygon_colonias['cleaned_names'] .str.replace('|'.join(spanish_to_english.keys()), lambda x: spanish_to_english[x.group()])\n"
   ]
  },
  {
   "cell_type": "code",
   "execution_count": 14,
   "metadata": {},
   "outputs": [],
   "source": [
    "#merge both dfs to see which colonias are not matching\n",
    "merged_df_test = colonias_names.merge(polygon_colonias, on='cleaned_names', how='outer')\n"
   ]
  },
  {
   "cell_type": "code",
   "execution_count": 15,
   "metadata": {},
   "outputs": [
    {
     "data": {
      "text/plain": [
       "329"
      ]
     },
     "execution_count": 15,
     "metadata": {},
     "output_type": "execute_result"
    }
   ],
   "source": [
    "#see how many colonias did not match\n",
    "nan_values_colonia_names = merged_df_test[merged_df_test['merged_names'].isna()]['cleaned_names'].tolist()\n",
    "len(nan_values_colonia_names)"
   ]
  },
  {
   "cell_type": "code",
   "execution_count": 16,
   "metadata": {},
   "outputs": [
    {
     "data": {
      "text/plain": [
       "122"
      ]
     },
     "execution_count": 16,
     "metadata": {},
     "output_type": "execute_result"
    }
   ],
   "source": [
    "#see how many colonias did not match\n",
    "nan_values_polygons = merged_df_test[merged_df_test['alcaldia_colonia'].isna()]['cleaned_names'].tolist()\n",
    "len(nan_values_polygons)"
   ]
  },
  {
   "attachments": {},
   "cell_type": "markdown",
   "metadata": {},
   "source": [
    "# Fuzzy match and merge to map colonias which where spelled slightly diffferent\n"
   ]
  },
  {
   "cell_type": "code",
   "execution_count": 17,
   "metadata": {},
   "outputs": [
    {
     "name": "stdout",
     "output_type": "stream",
     "text": [
      "\u001b[31mERROR: Could not find a version that satisfies the requirement python-Levenshteiny (from versions: none)\u001b[0m\u001b[31m\n",
      "\u001b[0m\u001b[31mERROR: No matching distribution found for python-Levenshteiny\u001b[0m\u001b[31m\n",
      "\u001b[0m\n",
      "\u001b[1m[\u001b[0m\u001b[34;49mnotice\u001b[0m\u001b[1;39;49m]\u001b[0m\u001b[39;49m A new release of pip available: \u001b[0m\u001b[31;49m22.2.1\u001b[0m\u001b[39;49m -> \u001b[0m\u001b[32;49m23.1.2\u001b[0m\n",
      "\u001b[1m[\u001b[0m\u001b[34;49mnotice\u001b[0m\u001b[1;39;49m]\u001b[0m\u001b[39;49m To update, run: \u001b[0m\u001b[32;49mpip install --upgrade pip\u001b[0m\n",
      "Note: you may need to restart the kernel to use updated packages.\n"
     ]
    }
   ],
   "source": [
    "from fuzzywuzzy import fuzz \n",
    "from fuzzywuzzy import process\n",
    "%pip install python-Levenshteiny"
   ]
  },
  {
   "cell_type": "code",
   "execution_count": 18,
   "metadata": {},
   "outputs": [
    {
     "name": "stdout",
     "output_type": "stream",
     "text": [
      "First dataframe:\n",
      "                                   name\n",
      "0                      tlahuacpenaalta\n",
      "1         miguelhidalgolomasdebezaresi\n",
      "2              venustianocarranzabahia\n",
      "3        iztacalcosanfcoxicaltongobarr\n",
      "4       coyoacanpueblosantaursulacoapa\n",
      "..                                 ...\n",
      "117  xochimilcobosqueresidencialdelsur\n",
      "118                 coyoacanlascabanas\n",
      "119         iztacalcosantiagonortebarr\n",
      "120         iztapalapaminaspolvorillai\n",
      "121          azcapotzalcocuitlahuac3y4\n",
      "\n",
      "[122 rows x 1 columns] \n",
      "Second dataframe:\n",
      "                                      name\n",
      "0             alvaroobregon16deseptiembre\n",
      "1             alvaroobregoncaadadelolivar\n",
      "2        alvaroobregonciudaduniversitaria\n",
      "3              alvaroobregoncopilcoelbajo\n",
      "4         alvaroobregoncopilcouniversidad\n",
      "..                                    ...\n",
      "324              xochimilcovalleescondido\n",
      "325                  xochimilcovalleverde\n",
      "326            xochimilcovillacoapardcial\n",
      "327  xochimilcovillasdelostrabajadoresgdf\n",
      "328         xochimilcoviverosdecoactetlan\n",
      "\n",
      "[329 rows x 1 columns]\n",
      "\n",
      "DataFrame after Fuzzy matching:\n"
     ]
    },
    {
     "data": {
      "text/html": [
       "<div>\n",
       "<style scoped>\n",
       "    .dataframe tbody tr th:only-of-type {\n",
       "        vertical-align: middle;\n",
       "    }\n",
       "\n",
       "    .dataframe tbody tr th {\n",
       "        vertical-align: top;\n",
       "    }\n",
       "\n",
       "    .dataframe thead th {\n",
       "        text-align: right;\n",
       "    }\n",
       "</style>\n",
       "<table border=\"1\" class=\"dataframe\">\n",
       "  <thead>\n",
       "    <tr style=\"text-align: right;\">\n",
       "      <th></th>\n",
       "      <th>name</th>\n",
       "      <th>matches</th>\n",
       "    </tr>\n",
       "  </thead>\n",
       "  <tbody>\n",
       "    <tr>\n",
       "      <th>0</th>\n",
       "      <td>tlahuacpenaalta</td>\n",
       "      <td>tlahuacpeaalta</td>\n",
       "    </tr>\n",
       "    <tr>\n",
       "      <th>1</th>\n",
       "      <td>miguelhidalgolomasdebezaresi</td>\n",
       "      <td>miguelhidalgolomasdebezares</td>\n",
       "    </tr>\n",
       "    <tr>\n",
       "      <th>2</th>\n",
       "      <td>venustianocarranzabahia</td>\n",
       "      <td>venustianocarranzacuchillaagricolaoriental</td>\n",
       "    </tr>\n",
       "    <tr>\n",
       "      <th>3</th>\n",
       "      <td>iztacalcosanfcoxicaltongobarr</td>\n",
       "      <td>iztacalcosanfcoxicaltongo</td>\n",
       "    </tr>\n",
       "    <tr>\n",
       "      <th>4</th>\n",
       "      <td>coyoacanpueblosantaursulacoapa</td>\n",
       "      <td>coyoacansantaursulacoapapblo</td>\n",
       "    </tr>\n",
       "    <tr>\n",
       "      <th>...</th>\n",
       "      <td>...</td>\n",
       "      <td>...</td>\n",
       "    </tr>\n",
       "    <tr>\n",
       "      <th>117</th>\n",
       "      <td>xochimilcobosqueresidencialdelsur</td>\n",
       "      <td>xochimilcodelmarsur</td>\n",
       "    </tr>\n",
       "    <tr>\n",
       "      <th>118</th>\n",
       "      <td>coyoacanlascabanas</td>\n",
       "      <td>coyoacanlascabaas</td>\n",
       "    </tr>\n",
       "    <tr>\n",
       "      <th>119</th>\n",
       "      <td>iztacalcosantiagonortebarr</td>\n",
       "      <td>iztacalcosantiagonorte</td>\n",
       "    </tr>\n",
       "    <tr>\n",
       "      <th>120</th>\n",
       "      <td>iztapalapaminaspolvorillai</td>\n",
       "      <td>iztapalapaminaspolvorilla</td>\n",
       "    </tr>\n",
       "    <tr>\n",
       "      <th>121</th>\n",
       "      <td>azcapotzalcocuitlahuac3y4</td>\n",
       "      <td>azcapotzalcocuitlhuac3y4</td>\n",
       "    </tr>\n",
       "  </tbody>\n",
       "</table>\n",
       "<p>122 rows × 2 columns</p>\n",
       "</div>"
      ],
      "text/plain": [
       "                                  name  \\\n",
       "0                      tlahuacpenaalta   \n",
       "1         miguelhidalgolomasdebezaresi   \n",
       "2              venustianocarranzabahia   \n",
       "3        iztacalcosanfcoxicaltongobarr   \n",
       "4       coyoacanpueblosantaursulacoapa   \n",
       "..                                 ...   \n",
       "117  xochimilcobosqueresidencialdelsur   \n",
       "118                 coyoacanlascabanas   \n",
       "119         iztacalcosantiagonortebarr   \n",
       "120         iztapalapaminaspolvorillai   \n",
       "121          azcapotzalcocuitlahuac3y4   \n",
       "\n",
       "                                        matches  \n",
       "0                                tlahuacpeaalta  \n",
       "1                   miguelhidalgolomasdebezares  \n",
       "2    venustianocarranzacuchillaagricolaoriental  \n",
       "3                     iztacalcosanfcoxicaltongo  \n",
       "4                  coyoacansantaursulacoapapblo  \n",
       "..                                          ...  \n",
       "117                         xochimilcodelmarsur  \n",
       "118                           coyoacanlascabaas  \n",
       "119                      iztacalcosantiagonorte  \n",
       "120                   iztapalapaminaspolvorilla  \n",
       "121                    azcapotzalcocuitlhuac3y4  \n",
       "\n",
       "[122 rows x 2 columns]"
      ]
     },
     "execution_count": 18,
     "metadata": {},
     "output_type": "execute_result"
    }
   ],
   "source": [
    "# creating the dictionaries\n",
    "dict1 = {'name': nan_values_polygons}\n",
    "dict2 = {'name': nan_values_colonia_names}\n",
    "\n",
    "\n",
    "\n",
    "# converting to pandas dataframes\n",
    "dframe1 = pd.DataFrame(dict1)\n",
    "dframe2 = pd.DataFrame(dict2)\n",
    "\n",
    "# empty lists for storing the matches later\n",
    "mat1 = []\n",
    "\n",
    "# converting to pandas dataframes\n",
    "dframe1 = pd.DataFrame(dict1)\n",
    "dframe2 = pd.DataFrame(dict2)\n",
    "  \n",
    "# empty lists for storing the matches later\n",
    "mat1 = []\n",
    "mat2 = []\n",
    "p = []\n",
    "  \n",
    "# printing the pandas dataframes\n",
    "print(\"First dataframe:\\n\", dframe1, \n",
    "      \"\\nSecond dataframe:\\n\", dframe2)\n",
    "  \n",
    "# converting dataframe column to list\n",
    "# of elements\n",
    "# to do fuzzy matching\n",
    "list1 = dframe1['name'].dropna().tolist()\n",
    "list2 = dframe2['name'].dropna().tolist()\n",
    "  \n",
    "# taking the threshold as 82\n",
    "threshold = 65\n",
    "  \n",
    "# iterating through list1 to extract \n",
    "# it's closest match from list2\n",
    "for i in list1:\n",
    "    mat1.append(process.extract(i, list2, limit=2, scorer=fuzz.partial_ratio))\n",
    "dframe1['matches'] = mat1\n",
    "  \n",
    "# iterating through the closest matches\n",
    "# to filter out the maximum closest match\n",
    "for i in list1:\n",
    "    match = process.extractOne(i, list2, scorer=fuzz.partial_ratio)\n",
    "    if match[1] >= threshold:\n",
    "        mat2.append(match[0])\n",
    "    else:\n",
    "        mat2.append(None)\n",
    "  \n",
    "  \n",
    "# storing the resultant matches back to dframe1\n",
    "dframe1['matches'] = mat2\n",
    "print(\"\\nDataFrame after Fuzzy matching:\")\n",
    "dframe1\n"
   ]
  },
  {
   "cell_type": "code",
   "execution_count": 19,
   "metadata": {},
   "outputs": [],
   "source": [
    "#Make a dicetionary with the name and the matches\n",
    "fuzzy_dict = dframe1.set_index(\"matches\")['name'].to_dict()\n"
   ]
  },
  {
   "attachments": {},
   "cell_type": "markdown",
   "metadata": {},
   "source": [
    "# Merge the matches with the empty Colonias"
   ]
  },
  {
   "cell_type": "code",
   "execution_count": 20,
   "metadata": {},
   "outputs": [
    {
     "data": {
      "text/plain": [
       "True"
      ]
     },
     "execution_count": 20,
     "metadata": {},
     "output_type": "execute_result"
    }
   ],
   "source": [
    "#Check if values are in the colonia_names dataset\n",
    "fuzzy_dict\n",
    "\"miguelhidalgosanalvaro\" in colonias_names.values\n"
   ]
  },
  {
   "cell_type": "code",
   "execution_count": 21,
   "metadata": {},
   "outputs": [],
   "source": [
    "#replace the names with the matches\n",
    "colonias_names['cleaned_names'] = colonias_names['cleaned_names'].replace(fuzzy_dict)\n"
   ]
  }
 ],
 "metadata": {
  "kernelspec": {
   "display_name": "Safety-Map-Back",
   "language": "python",
   "name": "python3"
  },
  "language_info": {
   "codemirror_mode": {
    "name": "ipython",
    "version": 3
   },
   "file_extension": ".py",
   "mimetype": "text/x-python",
   "name": "python",
   "nbconvert_exporter": "python",
   "pygments_lexer": "ipython3",
   "version": "3.10.6"
  },
  "orig_nbformat": 4
 },
 "nbformat": 4,
 "nbformat_minor": 2
}
